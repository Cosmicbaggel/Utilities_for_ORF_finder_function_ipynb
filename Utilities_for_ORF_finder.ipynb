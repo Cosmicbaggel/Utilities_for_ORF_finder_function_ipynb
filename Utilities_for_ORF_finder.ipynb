{
  "nbformat": 4,
  "nbformat_minor": 0,
  "metadata": {
    "colab": {
      "provenance": [],
      "authorship_tag": "ABX9TyPIPQrkSVjGyAgr4fjkHild",
      "include_colab_link": true
    },
    "kernelspec": {
      "name": "python3",
      "display_name": "Python 3"
    },
    "language_info": {
      "name": "python"
    }
  },
  "cells": [
    {
      "cell_type": "markdown",
      "metadata": {
        "id": "view-in-github",
        "colab_type": "text"
      },
      "source": [
        "<a href=\"https://colab.research.google.com/github/Cosmicbaggel/Utilities_for_ORF_finder_function_ipynb/blob/New-Repo-Personal/Utilities_for_ORF_finder.ipynb\" target=\"_parent\"><img src=\"https://colab.research.google.com/assets/colab-badge.svg\" alt=\"Open In Colab\"/></a>"
      ]
    },
    {
      "cell_type": "code",
      "execution_count": 2,
      "metadata": {
        "id": "NYJUotw9Fo8H"
      },
      "outputs": [],
      "source": [
        "def colored(seq):\n",
        "  bcolors = {\n",
        "      'A':  '\\033[92m]',\n",
        "      'G':  '\\033[93m]',\n",
        "      'T':  '\\033[94m]',\n",
        "      'C':  '\\033[95m]',\n",
        "      'reset':  '\\033[0;0m'\n",
        "  }\n",
        "  tempStr = \"\"\n",
        "  for nuc in seq:\n",
        "      if nuc in bcolors:\n",
        "          tmpStr += bcolors[nuc] + nuc\n",
        "      else:\n",
        "          tmpStr += bcolors['reset'] + nuc\n",
        "\n",
        "  return tmpStr += '\\033[0;0m'\n",
        "\n"
      ]
    }
  ]
}